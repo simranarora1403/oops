{
  "nbformat": 4,
  "nbformat_minor": 0,
  "metadata": {
    "colab": {
      "provenance": []
    },
    "kernelspec": {
      "name": "python3",
      "display_name": "Python 3"
    },
    "language_info": {
      "name": "python"
    }
  },
  "cells": [
    {
      "cell_type": "markdown",
      "source": [
        "#python oops"
      ],
      "metadata": {
        "id": "mVr6GK9Y-Oza"
      }
    },
    {
      "cell_type": "markdown",
      "source": [
        "Q1 What is Object-Oriented Programming (OOP)?\n",
        "\n",
        "Ans-"
      ],
      "metadata": {
        "id": "gE2b45xg-Rdh"
      }
    },
    {
      "cell_type": "markdown",
      "metadata": {
        "id": "cda829a9"
      },
      "source": [
        "Q1 What is Object-Oriented Programming (OOP)?\n",
        "\n",
        "Ans-Object-Oriented Programming (OOP) is a programming paradigm that organizes code around objects, which are instances of classes. It emphasizes concepts such as encapsulation, inheritance, and polymorphism to create modular, reusable, and maintainable software."
      ]
    },
    {
      "cell_type": "markdown",
      "metadata": {
        "id": "78f113e9"
      },
      "source": [
        "Q2  What is a class in OOP ?\n",
        "\n",
        "Ans-A class in Object-Oriented Programming (OOP) is a blueprint or template for creating objects. It defines the properties (attributes) and behaviors (methods) that objects of that class will have. Think of it like a cookie cutter – the class is the cutter, and the objects are the individual cookies created using that cutter."
      ]
    },
    {
      "cell_type": "markdown",
      "metadata": {
        "id": "78510961"
      },
      "source": [
        "Q3 What is an object in OOP?\n",
        "\n",
        "Ans-An object in Object-Oriented Programming (OOP) is a concrete instance of a class. It is a real-world entity or concept that has properties (attributes) and behaviors (methods) defined by its class. For example, if you have a class called \"Car\", an object could be a specific car like \"myCar\" with attributes like color (red), make (Toyota), and model (Camry), and behaviors like start(), stop(), and accelerate()."
      ]
    },
    {
      "cell_type": "markdown",
      "metadata": {
        "id": "ed0c133d"
      },
      "source": [
        "Q4  What is the difference between abstraction and encapsulation?\n",
        "\n",
        "Ans-Abstraction and encapsulation are two fundamental concepts in Object-Oriented Programming (OOP), but they serve different purposes:\n",
        "\n",
        "*   **Abstraction:** Focuses on hiding complexity and showing only the essential features of an object. It deals with the \"what\" an object does, rather than the \"how\" it does it. Think of it as a simplified view of a complex system. For example, when you drive a car, you interact with the steering wheel and pedals (the abstracted interface) without needing to understand the intricate details of the engine or transmission.\n",
        "\n",
        "*   **Encapsulation:** Is the bundling of data (attributes) and the methods (behaviors) that operate on that data into a single unit, which is the object. It is about protecting the data from direct external access and manipulation, ensuring that the data can only be accessed or modified through the defined methods. This helps maintain data integrity and control. Think of it like a capsule that contains data and methods together, protecting the data inside.\n",
        "\n",
        "In essence, abstraction is about simplifying the interface, while encapsulation is about bundling data and methods and controlling access to the data. They often work together to create well-designed and maintainable software."
      ]
    },
    {
      "cell_type": "markdown",
      "source": [
        "Q5 what is dunder method in python?\n",
        "\n",
        "Ans-Dunder methods, also known as magic methods, in Python are special methods that have double underscores at the beginning and end of their names (e.g., __init__, __str__, __add__). They are not meant to be called directly by the programmer but are invoked automatically by Python in response to certain operations or events.\n",
        "\n",
        "These methods allow you to define how objects of your class behave when used with built-in Python functions, operators, or syntax. For example:\n",
        "\n",
        "__init__ is called when you create a new object (constructor).\n",
        "__str__ is called when you use the str() function or print() on an object.\n",
        "__add__ is called when you use the + operator with objects of your class.\n",
        "Dunder methods are a powerful feature that enables you to customize the behavior of your objects and make them work seamlessly with Python's core features.\n",
        "\n"
      ],
      "metadata": {
        "id": "8NgOp2y1AI3e"
      }
    },
    {
      "cell_type": "markdown",
      "metadata": {
        "id": "29cf1da7"
      },
      "source": [
        "Q6 Explain the concept of inheritance in OOP.\n",
        "\n",
        "Ans-Inheritance is a fundamental concept in Object-Oriented Programming (OOP) that allows a new class (called the **subclass** or **derived class**) to inherit properties (attributes) and behaviors (methods) from an existing class (called the **superclass** or **base class**). This promotes code reusability and establishes a hierarchical relationship between classes.\n",
        "\n",
        "Think of it like a family tree. A child inherits certain traits from their parents. Similarly, in programming, a subclass inherits characteristics from its superclass.\n",
        "\n",
        "Here are the key ideas behind inheritance:\n",
        "\n",
        "*   **Code Reusability:** You don't need to rewrite the same code in multiple classes if they share common features. The subclass can simply inherit them from the superclass.\n",
        "*   **Establishing Relationships:** Inheritance defines an \"is-a\" relationship between classes. For example, a \"Dog\" class could inherit from a \"Mammal\" class, as a Dog \"is a\" Mammal.\n",
        "*   **Extensibility:** Subclasses can extend the functionality of the superclass by adding new attributes and methods or by overriding existing ones.\n",
        "\n",
        "In Python, inheritance is implemented by defining a new class that includes the name of the superclass in parentheses after the new class name:"
      ]
    },
    {
      "cell_type": "markdown",
      "metadata": {
        "id": "93b44458"
      },
      "source": [
        "Q8 How is encapsulation achieved in Python?\n",
        "\n",
        "Ans-In Python, encapsulation is achieved through a combination of conventions and mechanisms:\n",
        "\n",
        "* **Private and Protected Attributes (by Convention):** Python doesn't have strict keywords like `private` or `protected` as found in some other languages (like Java or C++). Instead, encapsulation is often achieved by convention using naming conventions:\n",
        "    * **Single underscore (`_`):** A single underscore prefix (e.g., `_my_attribute`) is a convention indicating that an attribute or method is intended for internal use within the class or module. While it doesn't strictly prevent external access, it signals to other developers that they should not directly access or modify this member from outside the class.\n",
        "    * **Double underscore (`__`):** A double underscore prefix (e.g., `__my_attribute`) triggers a mechanism called **name mangling**. Python internally changes the name of the attribute to include the class name (e.g., `_ClassName__my_attribute`). This makes it harder, but not impossible, to access the attribute from outside the class, providing a stronger form of encapsulation. It's primarily used to avoid naming conflicts in inheritance.\n",
        "\n",
        "* **Getters and Setters (Methods):** While not strictly necessary due to Python's dynamic nature, you can explicitly define getter and setter methods to control access to attributes. Getters are methods that retrieve the value of an attribute, and setters are methods that modify the value of an attribute. This allows you to add logic or validation when accessing or modifying data.\n",
        "\n",
        "* **Properties:** Python's `property` decorator provides a more Pythonic way to achieve controlled access to attributes. It allows you to define methods for getting, setting, and deleting an attribute and access them as if they were regular attributes. This provides a clean interface while still allowing you to add logic behind the scenes.\n",
        "\n",
        "In summary, Python relies on naming conventions, name mangling, and the use of getters, setters, and properties to achieve encapsulation. While it doesn't enforce strict access restrictions like some other languages, these mechanisms provide developers with the tools to control how data and methods are accessed and modified within a class, promoting good programming practices and maintaining data integrity."
      ]
    },
    {
      "cell_type": "markdown",
      "metadata": {
        "id": "fff8eb14"
      },
      "source": [
        "Q7 What is polymorphism in OOP?\n",
        "\n",
        "Ans-Polymorphism, meaning \"many forms,\" is another core concept in Object-Oriented Programming (OOP). It allows objects of different classes to be treated as objects of a common superclass. This means you can use a single interface to represent different underlying types of objects.\n",
        "\n",
        "Here's a breakdown:\n",
        "\n",
        "*   **Single Interface, Multiple Forms:** Polymorphism enables you to write code that works with objects of various classes in a uniform way, as long as those classes share a common superclass or implement a common interface.\n",
        "*   **Method Overriding:** A common way to achieve polymorphism is through method overriding. This is where a subclass provides a specific implementation of a method that is already defined in its superclass. When you call that method on an object, the specific implementation in the object's class is executed.\n",
        "*   **Method Overloading (not directly supported in Python in the same way as some other languages):** In some languages, polymorphism can also be achieved through method overloading, where multiple methods in the same class have the same name but different parameters. Python does not support traditional method overloading in this way, but similar behavior can be achieved using default arguments or variable-length arguments.\n",
        "\n",
        "In essence, polymorphism allows for more flexible and extensible code. You can write functions or methods that operate on a general type (the superclass or interface) and have them work correctly with any specific object that is an instance of a subclass, without needing to know the exact type of the object at compile time. This makes your code more adaptable to new classes and behaviors."
      ]
    },
    {
      "cell_type": "markdown",
      "source": [],
      "metadata": {
        "id": "sufnX2R5A68V"
      }
    },
    {
      "cell_type": "code",
      "metadata": {
        "colab": {
          "base_uri": "https://localhost:8080/"
        },
        "id": "b85b64c2",
        "outputId": "002de5cd-928b-459e-d4d2-771414cbbacf"
      },
      "source": [
        "class MyClass:\n",
        "    def __init__(self, arg1, arg2):\n",
        "        self.attribute1 = arg1\n",
        "        self.attribute2 = arg2\n",
        "        print(f\"MyClass object created with attribute1: {self.attribute1} and attribute2: {self.attribute2}\")\n",
        "\n",
        "my_object = MyClass(\"value1\", \"value2\")\n",
        "\n",
        "print(f\"Accessing attributes: {my_object.attribute1}, {my_object.attribute2}\")"
      ],
      "execution_count": 2,
      "outputs": [
        {
          "output_type": "stream",
          "name": "stdout",
          "text": [
            "MyClass object created with attribute1: value1 and attribute2: value2\n",
            "Accessing attributes: value1, value2\n"
          ]
        }
      ]
    },
    {
      "cell_type": "markdown",
      "metadata": {
        "id": "ca7f9de2"
      },
      "source": [
        "Q9 What is a constructor in Python?\n",
        "\n",
        "Ans-In Python, a constructor is a special method used to initialize the state of an object. It is automatically called when you create a new instance of a class. The primary purpose of a constructor is to assign values to the instance variables or attributes of the object.\n",
        "\n",
        "In Python, the constructor method is named `__init__`. It is a dunder method (or magic method) because of the double underscores at the beginning and end of its name.\n",
        "\n",
        "Here's a basic structure of a class with a constructor:"
      ]
    },
    {
      "cell_type": "code",
      "metadata": {
        "colab": {
          "base_uri": "https://localhost:8080/",
          "height": 141
        },
        "id": "0105959b",
        "outputId": "4cbd218c-8cb5-4e94-bd09-b2bbcdd5969f"
      },
      "source": [
        "my_object = MyClass(\"value1\", \"value2\")"
      ],
      "execution_count": 1,
      "outputs": [
        {
          "output_type": "error",
          "ename": "NameError",
          "evalue": "name 'MyClass' is not defined",
          "traceback": [
            "\u001b[0;31m---------------------------------------------------------------------------\u001b[0m",
            "\u001b[0;31mNameError\u001b[0m                                 Traceback (most recent call last)",
            "\u001b[0;32m/tmp/ipython-input-1967373486.py\u001b[0m in \u001b[0;36m<cell line: 0>\u001b[0;34m()\u001b[0m\n\u001b[0;32m----> 1\u001b[0;31m \u001b[0mmy_object\u001b[0m \u001b[0;34m=\u001b[0m \u001b[0mMyClass\u001b[0m\u001b[0;34m(\u001b[0m\u001b[0;34m\"value1\"\u001b[0m\u001b[0;34m,\u001b[0m \u001b[0;34m\"value2\"\u001b[0m\u001b[0;34m)\u001b[0m\u001b[0;34m\u001b[0m\u001b[0;34m\u001b[0m\u001b[0m\n\u001b[0m",
            "\u001b[0;31mNameError\u001b[0m: name 'MyClass' is not defined"
          ]
        }
      ]
    },
    {
      "cell_type": "markdown",
      "source": [],
      "metadata": {
        "id": "QUG4V5UCBJpQ"
      }
    },
    {
      "cell_type": "markdown",
      "metadata": {
        "id": "8fea559e"
      },
      "source": [
        "Q10 What are class and static methods in Python?\n",
        "\n",
        "Ans-In Python, class methods and static methods are types of methods that are defined within a class but behave differently from instance methods. They are used to perform operations that are related to the class itself rather than a specific instance of the class.\n",
        "\n",
        "Here's a breakdown of each:\n",
        "\n",
        "* **Instance Methods:** These are the most common type of methods in a class. They operate on an instance of the class and have access to the instance's attributes and other methods through the `self` parameter (which refers to the instance). Instance methods are used to define the behaviors of individual objects.\n",
        "\n",
        "* **Class Methods:** Class methods are bound to the class and not the instance. They receive the class itself as the first argument, conventionally named `cls`. Class methods are often used for:\n",
        "    * **Factory methods:** Creating instances of the class in different ways.\n",
        "    * **Accessing or modifying class-level attributes:** Attributes that are shared among all instances of the class.\n",
        "\n",
        "    You define a class method using the `@classmethod` decorator.\n",
        "\n",
        "* **Static Methods:** Static methods are not bound to either the instance or the class. They don't receive an implicit first argument (like `self` or `cls`). Static methods are similar to regular functions but are defined within a class because they have some logical connection to the class. They are typically used for utility functions that don't need access to instance or class-specific data.\n",
        "\n",
        "    You define a static method using the `@staticmethod` decorator.\n",
        "\n",
        "Here's a table summarizing the key differences:\n",
        "\n",
        "| Feature          | Instance Method | Class Method | Static Method |\n",
        "|------------------|-----------------|--------------|---------------|\n",
        "| First Argument   | `self` (instance)| `cls` (class)| None          |\n",
        "| Access to Data   | Instance data   | Class data   | Neither instance nor class data |\n",
        "| Usage            | Object behavior | Factory methods, class data manipulation | Utility functions |\n",
        "| Decorator        | None            | `@classmethod`| `@staticmethod`|\n",
        "\n",
        "In essence:\n",
        "* Use **instance methods** for operations that depend on the state of a specific object.\n",
        "* Use **class methods** for operations that relate to the class as a whole, like creating instances or working with class attributes.\n",
        "* Use **static methods** for utility functions that are logically grouped within a class but don't need access to instance or class data."
      ]
    },
    {
      "cell_type": "markdown",
      "metadata": {
        "id": "54e38f36"
      },
      "source": [
        "Q11 What is method overloading in Python?\n",
        "\n",
        "Ans-Method overloading, as it is typically understood in languages like Java or C++, refers to the ability to define multiple methods within the same class that have the same name but different parameters (different number or types of arguments). The appropriate method is then called based on the arguments provided during the method call.\n",
        "\n",
        "**Python does not support true method overloading in the same way.** If you define multiple methods with the same name in a Python class, the last definition will overwrite the previous ones.\n",
        "\n",
        "However, Python provides alternative ways to achieve similar functionality:\n",
        "\n",
        "* **Default Arguments:** You can define a single method with default values for some parameters. This allows you to call the method with a varying number of arguments.\n",
        "* **Variable-Length Arguments (`*args` and `**kwargs`):** You can use `*args` to accept an arbitrary number of positional arguments and `**kwargs` to accept an arbitrary number of keyword arguments. This allows a single method to handle different argument lists.\n",
        "\n",
        "While Python doesn't have the strict syntax of method overloading found in some other languages, these techniques provide flexibility in defining methods that can handle different sets of inputs, achieving a similar outcome."
      ]
    },
    {
      "cell_type": "markdown",
      "metadata": {
        "id": "40b0b217"
      },
      "source": [
        "Q12 What is method overriding in OOP?\n",
        "\n",
        "Ans-Method overriding is a concept in Object-Oriented Programming (OOP) that allows a subclass to provide a specific implementation of a method that is already defined in its superclass. When you call a method on an object, the implementation in the object's specific class is executed, rather than the implementation in the superclass (if the method has been overridden).\n",
        "\n",
        "Here's a breakdown of the key aspects:\n",
        "\n",
        "* **Inheritance is Required:** Method overriding can only occur in an inheritance hierarchy, where a subclass inherits from a superclass.\n",
        "* **Same Method Signature:** The method in the subclass must have the same name, number of parameters, and types of parameters as the method in the superclass that it is overriding.\n",
        "* **Specific Implementation:** The subclass provides its own unique implementation for the overridden method.\n",
        "* **Runtime Polymorphism:** Method overriding is a key mechanism for achieving runtime polymorphism. This means that the specific method implementation that is called is determined at runtime based on the actual type of the object, not the type of the reference variable.\n",
        "\n",
        "Think of it like this: a general \"Animal\" class might have a `make_sound()` method. A \"Dog\" subclass might override this method to specifically `bark()`, and a \"Cat\" subclass might override it to `meow()`. When you call `make_sound()` on an Animal object, the specific sound made will depend on whether the object is a Dog or a Cat.\n",
        "\n",
        "Method overriding is crucial for creating flexible and extensible code in OOP, allowing subclasses to specialize the behavior inherited from their superclass."
      ]
    },
    {
      "cell_type": "markdown",
      "metadata": {
        "id": "11ae4b29"
      },
      "source": [
        "Q13 What is a property decorator in Python?\n",
        "\n",
        "Ans-In Python, the `@property` decorator is a built-in decorator that provides a convenient way to define getters, setters, and deleters for class attributes. It allows you to access methods as if they were attributes, providing a more Pythonic way to control access to your data.\n",
        "\n",
        "Essentially, the `@property` decorator turns a method into a \"getter\" for an attribute of the same name. You can then define corresponding methods with the `@<attribute_name>.setter` and `@<attribute_name>.deleter` decorators to handle setting and deleting the attribute.\n",
        "\n",
        "Here's why the `@property` decorator is useful:\n",
        "\n",
        "* **Encapsulation:** It helps in achieving encapsulation by allowing you to control how attributes are accessed and modified. You can add validation logic, perform calculations, or even make attributes read-only.\n",
        "* **Clean Syntax:** It allows you to use the simple dot notation (`object.attribute`) to access and modify attributes, even though there's underlying method logic. This makes your code more readable and intuitive.\n",
        "* **Maintainability:** If you need to change the internal representation of an attribute later, you can do so within the getter and setter methods without affecting the code that uses the attribute.\n",
        "\n",
        "Here's a basic example:"
      ]
    },
    {
      "cell_type": "markdown",
      "metadata": {
        "id": "62177536"
      },
      "source": [
        "Q14 Why is polymorphism important in OOP?\n",
        "\n",
        "Ans-Polymorphism is a crucial concept in Object-Oriented Programming (OOP) because it brings several significant benefits:\n",
        "\n",
        "* **Flexibility and Extensibility:** Polymorphism allows you to write code that can work with objects of different classes in a uniform way. This makes your code more flexible and easier to extend because you can add new classes without having to modify existing code that uses a polymorphic interface.\n",
        "* **Code Reusability:** By allowing objects of different types to be treated as objects of a common superclass, polymorphism promotes code reusability. You can write generic functions or methods that operate on the superclass type, and these functions will work correctly with any subclass object.\n",
        "* **Simplified Code:** Polymorphism can simplify your code by reducing the need for complex conditional statements (e.g., `if-elif-else` chains) to handle different object types. Instead, you can rely on the appropriate method implementation being called based on the object's actual type at runtime.\n",
        "* **Maintainability:** Polymorphism makes your code more maintainable. If you need to change the behavior of a specific class, you can do so by overriding methods in that class without affecting other parts of the code that use the polymorphic interface.\n",
        "* **Abstraction:** Polymorphism works closely with abstraction by allowing you to focus on the common interface of objects rather than their specific implementations. This helps in creating more abstract and high-level designs.\n",
        "\n",
        "In essence, polymorphism enables you to write more adaptable, reusable, and maintainable code by allowing objects to take on \"many forms\" and respond to the same method calls in different ways based on their specific types. It's a powerful tool for creating robust and scalable software systems."
      ]
    },
    {
      "cell_type": "markdown",
      "metadata": {
        "id": "42db889f"
      },
      "source": [
        "Q15 What is an abstract class in Python?\n",
        "\n",
        "Ans-In Python, an abstract class is a class that cannot be instantiated directly. It is designed to be a blueprint for other classes, providing a common interface and potentially some common implementation for its subclasses. Abstract classes are used to define a contract that subclasses must follow.\n",
        "\n",
        "Here's why abstract classes are used:\n",
        "\n",
        "* **Enforcing a Structure:** Abstract classes define a set of methods that their subclasses *must* implement. This ensures that all subclasses have a certain behavior, making the code more predictable and easier to maintain.\n",
        "* **Code Reusability:** Abstract classes can provide some default implementations for methods, which can be inherited by subclasses, reducing code duplication.\n",
        "* **Defining Interfaces:** Abstract classes are often used to define interfaces, which specify a set of methods that a class must have without providing the implementation.\n",
        "\n",
        "In Python, you can create abstract classes using the `abc` (Abstract Base Classes) module. You define an abstract class by inheriting from `ABC` and marking abstract methods with the `@abstractmethod` decorator.\n",
        "\n",
        "Here's a simple example:"
      ]
    },
    {
      "cell_type": "markdown",
      "metadata": {
        "id": "2da0fdce"
      },
      "source": [
        "Q16 What are the advantages of OOP?\n",
        "\n",
        "Ans-Object-Oriented Programming (OOP) offers several significant advantages that contribute to building robust, maintainable, and scalable software systems. Here are some of the key benefits:\n",
        "\n",
        "* **Modularity:** OOP allows you to break down complex problems into smaller, self-contained units called objects. This makes the code more organized, easier to understand, and manage.\n",
        "* **Reusability:** Through concepts like inheritance, you can reuse existing code by creating new classes that inherit properties and behaviors from existing ones. This saves time and effort and reduces the risk of errors.\n",
        "* **Maintainability:** The modular nature of OOP makes it easier to maintain and update code. Changes made within one object or class are less likely to affect other parts of the system, simplifying debugging and modifications.\n",
        "* **Flexibility and Extensibility:** Polymorphism allows you to write code that can work with objects of different types, making the system more flexible and easier to extend with new features or classes.\n",
        "* **Abstraction:** OOP enables you to hide complex implementation details and expose only the essential features of an object. This simplifies the interface and makes the code easier to use and understand.\n",
        "* **Improved Collaboration:** The modular and well-defined structure of OOP makes it easier for multiple developers to work on the same project simultaneously, as they can focus on specific objects or classes without interfering with each other's work.\n",
        "* **Faster Development:** Due to code reusability and modularity, OOP can lead to faster development times, especially for large and complex projects.\n",
        "\n",
        "These advantages collectively contribute to the popularity of OOP as a programming paradigm for building a wide range of software applications."
      ]
    },
    {
      "cell_type": "markdown",
      "metadata": {
        "id": "664cb0b5"
      },
      "source": [
        "Q17 What is the difference between a class variable and an instance variable?\n",
        "\n",
        "Ans-In Python, class variables and instance variables are both used to store data within a class, but they differ in how they are defined, accessed, and shared among objects.\n",
        "\n",
        "Here's a breakdown of the key differences:\n",
        "\n",
        "* **Class Variables:**\n",
        "    * **Definition:** Defined directly within the class, outside of any methods.\n",
        "    * **Scope:** Shared among all instances (objects) of the class.\n",
        "    * **Access:** Accessed using the class name or an instance of the class (though accessing via the class name is preferred for clarity).\n",
        "    * **Purpose:** Used for attributes that are common to all instances of the class, such as constants, default values, or counters.\n",
        "\n",
        "* **Instance Variables:**\n",
        "    * **Definition:** Defined within the methods of a class, typically in the constructor (`__init__`), using the `self` keyword.\n",
        "    * **Scope:** Unique to each instance (object) of the class.\n",
        "    * **Access:** Accessed using an instance of the class.\n",
        "    * **Purpose:** Used for attributes that represent the state or characteristics of a specific instance.\n",
        "\n",
        "Here's a simple example to illustrate the difference:"
      ]
    },
    {
      "cell_type": "markdown",
      "metadata": {
        "id": "262667fe"
      },
      "source": [
        "Q18 What is multiple inheritance in Python?\n",
        "\n",
        "Ans-Multiple inheritance is a feature in Object-Oriented Programming (OOP) where a class can inherit properties and behaviors from more than one parent class. In Python, a class can inherit from multiple base classes by listing them in the parentheses after the class name, separated by commas.\n",
        "\n",
        "Here's how it works:\n",
        "\n",
        "* **Inheriting from Multiple Parents:** A subclass can inherit attributes and methods from all of its parent classes. This allows the subclass to combine the characteristics of multiple existing classes.\n",
        "* **Method Resolution Order (MRO):** When a method is called on an object of a class that uses multiple inheritance, Python needs to determine which parent class's method implementation to use if the method exists in more than one parent. This is resolved using the Method Resolution Order (MRO). Python uses a specific algorithm (C3 linearization) to determine the order in which base classes are searched for a method. You can view the MRO of a class using the `__mro__` attribute or the `help()` function.\n",
        "* **Potential Issues:** While powerful, multiple inheritance can sometimes lead to complexities, particularly with the \"diamond problem.\" This occurs when a class inherits from two classes that have a common ancestor, and there's ambiguity about which ancestor's method to use. Python's MRO helps to resolve this, but it's important to understand the MRO to predict how methods will be resolved.\n",
        "\n",
        "Here's a simple example:"
      ]
    },
    {
      "cell_type": "markdown",
      "metadata": {
        "id": "7b959988"
      },
      "source": [
        "Q19 Explain the purpose of `__str__` and `__repr__` methods in Python.\n",
        "\n",
        "Ans-In Python, `__str__` and `__repr__` are both special methods (dunder methods) that define how objects are represented as strings. However, they serve different purposes and are typically used in different contexts:\n",
        "\n",
        "*   **`__str__(self)`:**\n",
        "    *   **Purpose:** This method is intended to return a user-friendly, readable string representation of an object. It's what you would want to show to a human user.\n",
        "    *   **Invoked by:** The built-in `str()` function and the `print()` function.\n",
        "    *   **Goal:** To be informal and easy to understand. It doesn't necessarily have to be unambiguous.\n",
        "    *   **Example:** For a `Date` object, `__str__` might return \"2023-10-27\".\n",
        "\n",
        "*   **`__repr__(self)`:**\n",
        "    *   **Purpose:** This method is intended to return an unambiguous string representation of an object. It's primarily for developers and should ideally be a string that, if evaluated, could recreate the object (if possible).\n",
        "    *   **Invoked by:** The built-in `repr()` function, the interactive Python interpreter (when you type an object's name and press Enter), and in debugging.\n",
        "    *   **Goal:** To be accurate and informative for developers. It should be unambiguous.\n",
        "    *   **Example:** For the same `Date` object, `__repr__` might return \"Date(2023, 10, 27)\".\n",
        "\n",
        "**Key Differences Summarized:**\n",
        "\n",
        "| Feature          | `__str__`                     | `__repr__`                         |\n",
        "|------------------|-------------------------------|------------------------------------|\n",
        "| **Audience**     | Human users                   | Developers/Debugging               |\n",
        "| **Goal**         | Readable, user-friendly       | Unambiguous, informative          |\n",
        "| **Invoked by**   | `str()`, `print()`            | `repr()`, interactive interpreter |\n",
        "| **Ambiguity**    | Can be ambiguous              | Should be unambiguous               |\n",
        "| **Return Value** | Any string                    | Should ideally be evaluatable code |\n",
        "\n",
        "**Relationship:**\n",
        "\n",
        "If `__str__` is not defined for a class, Python will fall back to using `__repr__`. However, if `__repr__` is not defined, there is no fallback, and printing the object will result in a default representation like `<__main__.MyClass object at 0x...>`.\n",
        "\n",
        "It's generally recommended to always define `__repr__` for your classes, as it's useful for debugging and development. Define `__str__` only if you need a separate, more user-friendly representation."
      ]
    },
    {
      "cell_type": "markdown",
      "metadata": {
        "id": "5f8bc9fa"
      },
      "source": [
        "Q20 What is the significance of the `super()` function in Python?\n",
        "\n",
        "Ans-The `super()` function in Python is a built-in function that provides a way to access methods of the parent class (or superclass) from within a subclass. Its primary significance lies in facilitating inheritance and maintaining proper method resolution in complex class hierarchies, especially in cases of multiple inheritance.\n",
        "\n",
        "Here's why `super()` is important:\n",
        "\n",
        "* **Calling Parent Class Methods:** The most common use of `super()` is to call a method that has been overridden in the subclass but you still want to execute the parent class's version of that method. This is particularly useful in the `__init__` method of a subclass to call the parent class's constructor and initialize the inherited attributes.\n",
        "* **Handling Method Resolution Order (MRO):** In cases of multiple inheritance, where a class inherits from multiple parent classes, `super()` plays a crucial role in correctly navigating the Method Resolution Order (MRO). It dynamically determines the next class in the MRO to call the method from, ensuring that methods are called in the correct order according to Python's C3 linearization algorithm. This helps to avoid issues that can arise in multiple inheritance, such as the diamond problem.\n",
        "* **Code Maintainability:** Using `super()` makes your code more maintainable. If you change the name of the parent class or the class hierarchy, you don't need to manually update the calls to parent methods in the subclass. `super()` handles this dynamically.\n",
        "* **Avoiding Explicit Parent Class Naming:** Before `super()` was introduced, you had to explicitly refer to the parent class by name when calling its methods (e.g., `ParentClass.__init__(self, ...) `). `super()` eliminates this need, making the code cleaner and less prone to errors if the parent class name changes.\n",
        "\n",
        "In essence, `super()` allows you to delegate calls to the appropriate parent class methods in an inheritance hierarchy. It is essential for correctly implementing inheritance, especially in multiple inheritance scenarios, and contributes to more maintainable and flexible code.\n",
        "\n",
        "Here's a simple example:"
      ]
    },
    {
      "cell_type": "markdown",
      "metadata": {
        "id": "190bda0a"
      },
      "source": [
        "Q21 What is the significance of the `__del__` method in Python?\n",
        "\n",
        "Ans-In Python, the `__del__` method, also known as the destructor, is a special method (dunder method) that is called when an object is about to be destroyed or garbage collected. Its primary purpose is to perform cleanup operations before an object is removed from memory.\n",
        "\n",
        "Here's the significance of the `__del__` method:\n",
        "\n",
        "* **Resource Management:** The most common use case for `__del__` is to release external resources that are held by the object. This could include closing files, network connections, database connections, or freeing up memory allocated by external libraries.\n",
        "* **Cleanup Operations:** You can use `__del__` to perform any necessary cleanup tasks that need to happen when an object is no longer needed. This might involve writing data to a file, sending a notification, or performing other finalization steps.\n",
        "* **Unpredictable Execution:** It's important to note that the exact timing of when `__del__` is called is not guaranteed. Python's garbage collector determines when objects are no longer referenced and can be safely deleted. This means that `__del__` might not be called immediately after the last reference to an object is removed, and in some cases, it might not be called at all (e.g., if the program terminates abruptly).\n",
        "* **Potential Issues:** Due to the unpredictable nature of garbage collection, relying heavily on `__del__` for critical resource management can be problematic. It's generally recommended to use context managers (`with` statements) or explicit cleanup methods whenever possible, as they provide more predictable and reliable resource management.\n",
        "\n",
        "In summary, the `__del__` method is used for cleanup operations when an object is garbage collected. While it can be useful for releasing external resources, its unpredictable execution timing makes it less reliable for critical resource management compared to alternative approaches like context managers."
      ]
    },
    {
      "cell_type": "markdown",
      "metadata": {
        "id": "0b0e6119"
      },
      "source": [
        "Q22 What are class and static methods in Python?\n",
        "\n",
        "Ans-In Python, class methods and static methods are types of methods that are defined within a class but behave differently from instance methods. They are used to perform operations that are related to the class itself rather than a specific instance of the class.\n",
        "\n",
        "Here's a breakdown of each:\n",
        "\n",
        "*   **Instance Methods:** These are the most common type of methods in a class. They operate on an instance of the class and have access to the instance's attributes and other methods through the `self` parameter (which refers to the instance). Instance methods are used to define the behaviors of individual objects.\n",
        "*   **Class Methods:** Class methods are bound to the class and not the instance. They receive the class itself as the first argument, conventionally named `cls`. Class methods are often used for:\n",
        "    *   **Factory methods:** Creating instances of the class in different ways.\n",
        "    *   **Accessing or modifying class-level attributes:** Attributes that are shared among all instances of the class.\n",
        "\n",
        "    You define a class method using the `@classmethod` decorator.\n",
        "*   **Static Methods:** Static methods are not bound to either the instance or the class. They don't receive an implicit first argument (like `self` or `cls`). Static methods are similar to regular functions but are defined within a class because they have some logical connection to the class. They are typically used for utility functions that don't need access to instance or class-specific data.\n",
        "\n",
        "    You define a static method using the `@staticmethod` decorator.\n",
        "\n",
        "Here's a table summarizing the key differences:\n",
        "\n",
        "| Feature          | Instance Method | Class Method | Static Method |\n",
        "|------------------|-----------------|--------------|---------------|\n",
        "| First Argument   | `self` (instance)| `cls` (class)| None          |\n",
        "| Access to Data   | Instance data   | Class data   | Neither instance nor class data |\n",
        "| Usage            | Object behavior | Factory methods, class data manipulation | Utility functions |\n",
        "| Decorator        | None            | `@classmethod`| `@staticmethod`|\n",
        "\n",
        "In essence:\n",
        "*   Use **instance methods** for operations that depend on the state of a specific object.\n",
        "*   Use **class methods** for operations that relate to the class as a whole, like creating instances or working with class attributes.\n",
        "*   Use **static methods** for utility functions that are logically grouped within a class but don't need access to instance or class data."
      ]
    },
    {
      "cell_type": "markdown",
      "metadata": {
        "id": "dea5ff28"
      },
      "source": [
        "Q23 What is polymorphism in OOP?\n",
        "\n",
        "Ans-Polymorphism, meaning \"many forms,\" is another core concept in Object-Oriented Programming (OOP). It allows objects of different classes to be treated as objects of a common superclass. This means you can use a single interface to represent different underlying types of objects.\n",
        "\n",
        "Here's a breakdown:\n",
        "\n",
        "*   **Single Interface, Multiple Forms:** Polymorphism enables you to write code that works with objects of various classes in a uniform way, as long as those classes share a common superclass or implement a common interface.\n",
        "*   **Method Overriding:** A common way to achieve polymorphism is through method overriding. This is where a subclass provides a specific implementation of a method that is already defined in its superclass. When you call that method on an object, the specific implementation in the object's class is executed.\n",
        "*   **Method Overloading (not directly supported in Python in the same way as some other languages):** In some languages, polymorphism can also be achieved through method overloading, where multiple methods in the same class have the same name but different parameters. Python does not support traditional method overloading in this way, but similar behavior can be achieved using default arguments or variable-length arguments.\n",
        "\n",
        "In essence, polymorphism allows for more flexible and extensible code. You can write functions or methods that operate on a general type (the superclass or interface) and have them work correctly with any specific object that is an instance of a subclass, without needing to know the exact type of the object at compile time. This makes your code more adaptable to new classes and behaviors."
      ]
    },
    {
      "cell_type": "code",
      "metadata": {
        "colab": {
          "base_uri": "https://localhost:8080/",
          "height": 141
        },
        "id": "a8b3874a",
        "outputId": "fbc55343-9bc2-4fa7-f6fe-3c637ec24e30"
      },
      "source": [
        "object.method1().method2().method3()"
      ],
      "execution_count": 3,
      "outputs": [
        {
          "output_type": "error",
          "ename": "AttributeError",
          "evalue": "type object 'object' has no attribute 'method1'",
          "traceback": [
            "\u001b[0;31m---------------------------------------------------------------------------\u001b[0m",
            "\u001b[0;31mAttributeError\u001b[0m                            Traceback (most recent call last)",
            "\u001b[0;32m/tmp/ipython-input-2426704281.py\u001b[0m in \u001b[0;36m<cell line: 0>\u001b[0;34m()\u001b[0m\n\u001b[0;32m----> 1\u001b[0;31m \u001b[0mobject\u001b[0m\u001b[0;34m.\u001b[0m\u001b[0mmethod1\u001b[0m\u001b[0;34m(\u001b[0m\u001b[0;34m)\u001b[0m\u001b[0;34m.\u001b[0m\u001b[0mmethod2\u001b[0m\u001b[0;34m(\u001b[0m\u001b[0;34m)\u001b[0m\u001b[0;34m.\u001b[0m\u001b[0mmethod3\u001b[0m\u001b[0;34m(\u001b[0m\u001b[0;34m)\u001b[0m\u001b[0;34m\u001b[0m\u001b[0;34m\u001b[0m\u001b[0m\n\u001b[0m",
            "\u001b[0;31mAttributeError\u001b[0m: type object 'object' has no attribute 'method1'"
          ]
        }
      ]
    },
    {
      "cell_type": "code",
      "metadata": {
        "colab": {
          "base_uri": "https://localhost:8080/"
        },
        "id": "61b9b046",
        "outputId": "92c69398-8aca-401c-b7ea-424ade08836b"
      },
      "source": [
        "class Calculator:\n",
        "    def __init__(self, value=0):\n",
        "        self.value = value\n",
        "\n",
        "    def add(self, num):\n",
        "        self.value += num\n",
        "        return self  # Return self to allow chaining\n",
        "\n",
        "    def multiply(self, num):\n",
        "        self.value *= num\n",
        "        return self  # Return self to allow chaining\n",
        "\n",
        "    def get_value(self):\n",
        "        return self.value\n",
        "\n",
        "# Using method chaining\n",
        "result = Calculator(10).add(5).multiply(2).get_value()\n",
        "print(result)  # Output: 30"
      ],
      "execution_count": 4,
      "outputs": [
        {
          "output_type": "stream",
          "name": "stdout",
          "text": [
            "30\n"
          ]
        }
      ]
    },
    {
      "cell_type": "markdown",
      "metadata": {
        "id": "6df93720"
      },
      "source": [
        "Q25 What is the purpose of the `__call__` method in Python?\n",
        "\n",
        "Ans-In Python, the `__call__` method is a special method (dunder method) that allows an instance of a class to be called as if it were a function. When you define the `__call__` method in a class, you can then call objects of that class using parentheses `()` just like you would call a regular function.\n",
        "\n",
        "Here's the purpose and significance of the `__call__` method:\n",
        "\n",
        "*   **Making Objects Callable:** The primary purpose is to make instances of your class callable. This can be useful when you want an object to behave like a function, performing some action when it's called.\n",
        "*   **Creating Function-like Objects (Functors):** Classes with a `__call__` method are sometimes referred to as \"functors\" or \"callable objects.\" They allow you to encapsulate both data (in the object's attributes) and behavior (in the `__call__` method) in a single entity that can be invoked like a function.\n",
        "*   **Stateful Functions:** Unlike regular functions, which are typically stateless, callable objects can maintain state through their instance attributes. This allows them to remember information between calls, which can be useful for various programming patterns.\n",
        "*   **Decorators:** The `__call__` method is often used when creating decorators using classes. A class-based decorator typically has an `__init__` method to store the decorated function and a `__call__` method to wrap the execution of the decorated function.\n",
        "*   **Callback Functions:** Callable objects can be used as callback functions, where an object is passed to another function or method to be called later.\n",
        "\n",
        "Here's a simple example:"
      ]
    },
    {
      "cell_type": "markdown",
      "source": [
        "#practical question/answer"
      ],
      "metadata": {
        "id": "3LtqwBJ2Dejx"
      }
    },
    {
      "cell_type": "markdown",
      "source": [
        "1. Create a parent class Animal with a method speak() that prints a generic message. Create a child class Dog\n",
        "that overrides the speak() method to print \"Bark!\"."
      ],
      "metadata": {
        "id": "tzdzrtxcDjpO"
      }
    },
    {
      "cell_type": "code",
      "metadata": {
        "id": "8ac090be"
      },
      "source": [
        "class Animal:\n",
        "    def speak(self):\n",
        "        print(\"Generic animal sound\")\n",
        "\n",
        "class Dog(Animal):\n",
        "    def speak(self):\n",
        "        print(\"Bark!\")"
      ],
      "execution_count": 5,
      "outputs": []
    },
    {
      "cell_type": "code",
      "metadata": {
        "colab": {
          "base_uri": "https://localhost:8080/"
        },
        "id": "2e0ee4f2",
        "outputId": "6f6d0df3-3629-42a0-ec9d-4f96990c9392"
      },
      "source": [
        "# Create instances and call the speak method\n",
        "animal = Animal()\n",
        "dog = Dog()\n",
        "\n",
        "animal.speak()\n",
        "dog.speak()"
      ],
      "execution_count": 6,
      "outputs": [
        {
          "output_type": "stream",
          "name": "stdout",
          "text": [
            "Generic animal sound\n",
            "Bark!\n"
          ]
        }
      ]
    },
    {
      "cell_type": "markdown",
      "source": [
        "2 write a program to create an abstract class Shape with a method area(). Derive classes Circle and Rectangle\n",
        "from it and implement the area() method in both.\n",
        "\n"
      ],
      "metadata": {
        "id": "DcmXYxdLDygx"
      }
    },
    {
      "cell_type": "code",
      "metadata": {
        "id": "73568cb4"
      },
      "source": [
        "from abc import ABC, abstractmethod\n",
        "\n",
        "class Shape(ABC):\n",
        "    @abstractmethod\n",
        "    def area(self):\n",
        "        pass\n",
        "\n",
        "class Circle(Shape):\n",
        "    def __init__(self, radius):\n",
        "        self.radius = radius\n",
        "\n",
        "    def area(self):\n",
        "        return 3.14 * self.radius * self.radius\n",
        "\n",
        "class Rectangle(Shape):\n",
        "    def __init__(self, width, height):\n",
        "        self.width = width\n",
        "        self.height = height\n",
        "\n",
        "    def area(self):\n",
        "        return self.width * self.height"
      ],
      "execution_count": 7,
      "outputs": []
    },
    {
      "cell_type": "code",
      "metadata": {
        "colab": {
          "base_uri": "https://localhost:8080/"
        },
        "id": "03310110",
        "outputId": "d58e66c9-3562-4046-94af-424f9a8aa337"
      },
      "source": [
        "# Create instances and calculate areas\n",
        "circle = Circle(5)\n",
        "rectangle = Rectangle(4, 6)\n",
        "\n",
        "print(f\"Area of Circle: {circle.area()}\")\n",
        "print(f\"Area of Rectangle: {rectangle.area()}\")"
      ],
      "execution_count": 8,
      "outputs": [
        {
          "output_type": "stream",
          "name": "stdout",
          "text": [
            "Area of Circle: 78.5\n",
            "Area of Rectangle: 24\n"
          ]
        }
      ]
    },
    {
      "cell_type": "markdown",
      "source": [
        "3. Implement a multi-level inheritance scenario where a class Vehicle has an attribute type. Derive a class Car\n",
        "and further derive a class ElectricCar that adds a battery attribute."
      ],
      "metadata": {
        "id": "rIeuUTwrEJkO"
      }
    },
    {
      "cell_type": "code",
      "metadata": {
        "colab": {
          "base_uri": "https://localhost:8080/"
        },
        "id": "0c75734b",
        "outputId": "33d5a889-c2c4-4922-e3f0-a699aa5441f6"
      },
      "source": [
        "class Vehicle:\n",
        "    def __init__(self, vehicle_type):\n",
        "        self.type = vehicle_type\n",
        "\n",
        "class Car(Vehicle):\n",
        "    def __init__(self, vehicle_type, model):\n",
        "        super().__init__(vehicle_type)\n",
        "        self.model = model\n",
        "\n",
        "class ElectricCar(Car):\n",
        "    def __init__(self, vehicle_type, model, battery_capacity):\n",
        "        super().__init__(vehicle_type, model)\n",
        "        self.battery = battery_capacity\n",
        "\n",
        "# Create an instance of ElectricCar and access its attributes\n",
        "my_electric_car = ElectricCar(\"car\", \"Tesla Model S\", \"100 kWh\")\n",
        "\n",
        "print(f\"Vehicle type: {my_electric_car.type}\")\n",
        "print(f\"Car model: {my_electric_car.model}\")\n",
        "print(f\"Battery capacity: {my_electric_car.battery}\")"
      ],
      "execution_count": 9,
      "outputs": [
        {
          "output_type": "stream",
          "name": "stdout",
          "text": [
            "Vehicle type: car\n",
            "Car model: Tesla Model S\n",
            "Battery capacity: 100 kWh\n"
          ]
        }
      ]
    },
    {
      "cell_type": "markdown",
      "source": [
        "4. Demonstrate polymorphism by creating a base class Bird with a method fly(). Create two derived classes\n",
        "Sparrow and Penguin that override the fly() method."
      ],
      "metadata": {
        "id": "8zZHjlmpEPSr"
      }
    },
    {
      "cell_type": "code",
      "metadata": {
        "id": "e5d7f95d"
      },
      "source": [
        "class Bird:\n",
        "    def fly(self):\n",
        "        print(\"Most birds can fly\")\n",
        "\n",
        "class Sparrow(Bird):\n",
        "    def fly(self):\n",
        "        print(\"Sparrows can fly short distances quickly\")\n",
        "\n",
        "class Penguin(Bird):\n",
        "    def fly(self):\n",
        "        print(\"Penguins cannot fly, but they are excellent swimmers\")"
      ],
      "execution_count": 10,
      "outputs": []
    },
    {
      "cell_type": "code",
      "metadata": {
        "colab": {
          "base_uri": "https://localhost:8080/"
        },
        "id": "efd363f1",
        "outputId": "cd569dde-eabf-4e96-fc73-5bb19400d79b"
      },
      "source": [
        "# Demonstrate polymorphism\n",
        "def bird_behavior(bird):\n",
        "    bird.fly()\n",
        "\n",
        "# Create instances of different bird types\n",
        "sparrow = Sparrow()\n",
        "penguin = Penguin()\n",
        "\n",
        "# Call the same function with different bird objects\n",
        "bird_behavior(sparrow)\n",
        "bird_behavior(penguin)"
      ],
      "execution_count": 11,
      "outputs": [
        {
          "output_type": "stream",
          "name": "stdout",
          "text": [
            "Sparrows can fly short distances quickly\n",
            "Penguins cannot fly, but they are excellent swimmers\n"
          ]
        }
      ]
    },
    {
      "cell_type": "markdown",
      "source": [
        "5 Write a program to demonstrate encapsulation by creating a class BankAccount with private attributes\n",
        "balance and methods to deposit, withdraw, and check balance."
      ],
      "metadata": {
        "id": "IPOKeP3JEYrR"
      }
    },
    {
      "cell_type": "code",
      "metadata": {
        "id": "79c981c5"
      },
      "source": [
        "class BankAccount:\n",
        "    def __init__(self, initial_balance=0):\n",
        "        # Private attribute (by convention)\n",
        "        self._balance = initial_balance\n",
        "\n",
        "    def deposit(self, amount):\n",
        "        if amount > 0:\n",
        "            self._balance += amount\n",
        "            print(f\"Deposited: ${amount}. New balance: ${self._balance}\")\n",
        "        else:\n",
        "            print(\"Deposit amount must be positive.\")\n",
        "\n",
        "    def withdraw(self, amount):\n",
        "        if amount > 0:\n",
        "            if self._balance >= amount:\n",
        "                self._balance -= amount\n",
        "                print(f\"Withdrew: ${amount}. New balance: ${self._balance}\")\n",
        "            else:\n",
        "                print(\"Insufficient funds.\")\n",
        "        else:\n",
        "            print(\"Withdrawal amount must be positive.\")\n",
        "\n",
        "    def check_balance(self):\n",
        "        print(f\"Current balance: ${self._balance}\")"
      ],
      "execution_count": 12,
      "outputs": []
    },
    {
      "cell_type": "code",
      "metadata": {
        "colab": {
          "base_uri": "https://localhost:8080/"
        },
        "id": "5b658736",
        "outputId": "62e2a6f4-2b97-43f8-cafd-650ee9985d34"
      },
      "source": [
        "# Create a bank account\n",
        "my_account = BankAccount(1000)\n",
        "\n",
        "# Perform operations\n",
        "my_account.deposit(500)\n",
        "my_account.withdraw(200)\n",
        "my_account.check_balance()\n",
        "my_account.withdraw(2000) # Attempt to withdraw more than balance\n",
        "my_account.deposit(-100) # Attempt to deposit negative amount"
      ],
      "execution_count": 13,
      "outputs": [
        {
          "output_type": "stream",
          "name": "stdout",
          "text": [
            "Deposited: $500. New balance: $1500\n",
            "Withdrew: $200. New balance: $1300\n",
            "Current balance: $1300\n",
            "Insufficient funds.\n",
            "Deposit amount must be positive.\n"
          ]
        }
      ]
    },
    {
      "cell_type": "markdown",
      "source": [
        "6. Demonstrate runtime polymorphism using a method play() in a base class Instrument. Derive classes Guitar\n",
        "and Piano that implement their own version of play()."
      ],
      "metadata": {
        "id": "ZK2G6s4AEefG"
      }
    },
    {
      "cell_type": "code",
      "metadata": {
        "id": "3cb4c00f"
      },
      "source": [
        "class Instrument:\n",
        "    def play(self):\n",
        "        print(\"Generic instrument sound\")\n",
        "\n",
        "class Guitar(Instrument):\n",
        "    def play(self):\n",
        "        print(\"Strumming the guitar\")\n",
        "\n",
        "class Piano(Instrument):\n",
        "    def play(self):\n",
        "        print(\"Playing the piano keys\")"
      ],
      "execution_count": 14,
      "outputs": []
    },
    {
      "cell_type": "code",
      "metadata": {
        "colab": {
          "base_uri": "https://localhost:8080/"
        },
        "id": "917aad16",
        "outputId": "a3244217-877a-4abd-cfa8-00b0c7350df5"
      },
      "source": [
        "# Demonstrate runtime polymorphism\n",
        "def make_instrument_play(instrument):\n",
        "    instrument.play()\n",
        "\n",
        "# Create instances of different instruments\n",
        "guitar = Guitar()\n",
        "piano = Piano()\n",
        "generic_instrument = Instrument()\n",
        "\n",
        "# Call the same function with different instrument objects\n",
        "make_instrument_play(guitar)\n",
        "make_instrument_play(piano)\n",
        "make_instrument_play(generic_instrument)"
      ],
      "execution_count": 15,
      "outputs": [
        {
          "output_type": "stream",
          "name": "stdout",
          "text": [
            "Strumming the guitar\n",
            "Playing the piano keys\n",
            "Generic instrument sound\n"
          ]
        }
      ]
    },
    {
      "cell_type": "markdown",
      "source": [
        "7. Create a class MathOperations with a class method add_numbers() to add two numbers and a static\n",
        "method subtract_numbers() to subtract two numbers."
      ],
      "metadata": {
        "id": "zQGn55mnElsC"
      }
    },
    {
      "cell_type": "code",
      "metadata": {
        "colab": {
          "base_uri": "https://localhost:8080/"
        },
        "id": "6442469e",
        "outputId": "89f80015-9899-4b17-8736-34d0a302783e"
      },
      "source": [
        "class MathOperations:\n",
        "    @classmethod\n",
        "    def add_numbers(cls, x, y):\n",
        "        \"\"\"Class method to add two numbers.\"\"\"\n",
        "        print(f\"Adding using class method: {x + y}\")\n",
        "        return x + y\n",
        "\n",
        "    @staticmethod\n",
        "    def subtract_numbers(x, y):\n",
        "        \"\"\"Static method to subtract two numbers.\"\"\"\n",
        "        print(f\"Subtracting using static method: {x - y}\")\n",
        "        return x - y\n",
        "\n",
        "# Call the class method using the class name\n",
        "MathOperations.add_numbers(10, 5)\n",
        "\n",
        "# Call the static method using the class name\n",
        "MathOperations.subtract_numbers(10, 5)\n",
        "\n",
        "# You can also call them using an instance, though it's less common for these types of methods\n",
        "math_obj = MathOperations()\n",
        "math_obj.add_numbers(20, 10)\n",
        "math_obj.subtract_numbers(20, 10)"
      ],
      "execution_count": 16,
      "outputs": [
        {
          "output_type": "stream",
          "name": "stdout",
          "text": [
            "Adding using class method: 15\n",
            "Subtracting using static method: 5\n",
            "Adding using class method: 30\n",
            "Subtracting using static method: 10\n"
          ]
        },
        {
          "output_type": "execute_result",
          "data": {
            "text/plain": [
              "10"
            ]
          },
          "metadata": {},
          "execution_count": 16
        }
      ]
    },
    {
      "cell_type": "markdown",
      "source": [
        "8 Implement a class Person with a class method to count the total number of persons created."
      ],
      "metadata": {
        "id": "_Egip3EcEqnG"
      }
    },
    {
      "cell_type": "code",
      "metadata": {
        "colab": {
          "base_uri": "https://localhost:8080/"
        },
        "id": "5262f8f9",
        "outputId": "9dc237db-e9af-412c-f9ab-5b27049d2ade"
      },
      "source": [
        "class Person:\n",
        "    # Class variable to count the number of instances\n",
        "    person_count = 0\n",
        "\n",
        "    def __init__(self, name):\n",
        "        self.name = name\n",
        "        # Increment the class variable when a new instance is created\n",
        "        Person.person_count += 1\n",
        "\n",
        "    @classmethod\n",
        "    def get_person_count(cls):\n",
        "        \"\"\"Class method to get the total number of persons created.\"\"\"\n",
        "        return cls.person_count\n",
        "\n",
        "# Create instances of the Person class\n",
        "person1 = Person(\"Alice\")\n",
        "person2 = Person(\"Bob\")\n",
        "person3 = Person(\"Charlie\")\n",
        "\n",
        "# Get the total number of persons created using the class method\n",
        "total_persons = Person.get_person_count()\n",
        "print(f\"Total number of persons created: {total_persons}\")\n",
        "\n",
        "# You can also access the class variable directly, but the class method is preferred\n",
        "print(f\"Total number of persons created (direct access): {Person.person_count}\")"
      ],
      "execution_count": 17,
      "outputs": [
        {
          "output_type": "stream",
          "name": "stdout",
          "text": [
            "Total number of persons created: 3\n",
            "Total number of persons created (direct access): 3\n"
          ]
        }
      ]
    },
    {
      "cell_type": "markdown",
      "source": [
        "9 write a class Fraction with attributes numerator and denominator. Override the str method to display the\n",
        "fraction as \"numerator/denominator\"."
      ],
      "metadata": {
        "id": "sUNOTLYeEwhM"
      }
    },
    {
      "cell_type": "code",
      "metadata": {
        "colab": {
          "base_uri": "https://localhost:8080/"
        },
        "id": "989c4a33",
        "outputId": "4aea97ab-1401-464d-f6c3-44bed0957eb3"
      },
      "source": [
        "class Fraction:\n",
        "    def __init__(self, numerator, denominator):\n",
        "        self.numerator = numerator\n",
        "        self.denominator = denominator\n",
        "\n",
        "    def __str__(self):\n",
        "        \"\"\"Override the string representation to display as numerator/denominator.\"\"\"\n",
        "        return f\"{self.numerator}/{self.denominator}\"\n",
        "\n",
        "# Create a Fraction object\n",
        "my_fraction = Fraction(3, 4)\n",
        "\n",
        "# Print the object, which will call the __str__ method\n",
        "print(my_fraction)\n",
        "\n",
        "# You can also explicitly call str()\n",
        "print(str(my_fraction))"
      ],
      "execution_count": 18,
      "outputs": [
        {
          "output_type": "stream",
          "name": "stdout",
          "text": [
            "3/4\n",
            "3/4\n"
          ]
        }
      ]
    },
    {
      "cell_type": "markdown",
      "source": [
        "10. Demonstrate operator overloading by creating a class Vector and overriding the add method to add two\n",
        "vectors."
      ],
      "metadata": {
        "id": "D5Nba0VGE3py"
      }
    },
    {
      "cell_type": "code",
      "metadata": {
        "colab": {
          "base_uri": "https://localhost:8080/"
        },
        "id": "b880db9a",
        "outputId": "0d504439-34b8-41dc-f21b-488b76a34369"
      },
      "source": [
        "class Vector:\n",
        "    def __init__(self, x, y):\n",
        "        self.x = x\n",
        "        self.y = y\n",
        "\n",
        "    def __str__(self):\n",
        "        return f\"Vector({self.x}, {self.y})\"\n",
        "\n",
        "    def __add__(self, other):\n",
        "        \"\"\"Override the addition operator (+) to add two Vector objects.\"\"\"\n",
        "        if isinstance(other, Vector):\n",
        "            return Vector(self.x + other.x, self.y + other.y)\n",
        "        else:\n",
        "            raise TypeError(\"Unsupported operand type for +: 'Vector' and '{}'\".format(type(other).__name__))\n",
        "\n",
        "# Create two Vector objects\n",
        "vector1 = Vector(2, 3)\n",
        "vector2 = Vector(5, 1)\n",
        "\n",
        "# Add the two vectors using the + operator (which calls the __add__ method)\n",
        "vector_sum = vector1 + vector2\n",
        "\n",
        "# Print the result\n",
        "print(vector_sum)"
      ],
      "execution_count": 19,
      "outputs": [
        {
          "output_type": "stream",
          "name": "stdout",
          "text": [
            "Vector(7, 4)\n"
          ]
        }
      ]
    },
    {
      "cell_type": "markdown",
      "source": [
        "11. Create a class Person with attributes name and age. Add a method greet() that prints \"Hello, my name is\n",
        "{name} and I am {age} years old.\""
      ],
      "metadata": {
        "id": "O4I-ATb5E9sH"
      }
    },
    {
      "cell_type": "code",
      "metadata": {
        "colab": {
          "base_uri": "https://localhost:8080/"
        },
        "id": "646294e1",
        "outputId": "891c2b3e-5b11-4799-decd-1e285c1fb6ca"
      },
      "source": [
        "class Person:\n",
        "    def __init__(self, name, age):\n",
        "        self.name = name\n",
        "        self.age = age\n",
        "\n",
        "    def greet(self):\n",
        "        \"\"\"Prints a greeting message using the person's name and age.\"\"\"\n",
        "        print(f\"Hello, my name is {self.name} and I am {self.age} years old.\")\n",
        "\n",
        "# Create a Person object\n",
        "person1 = Person(\"Alice\", 30)\n",
        "\n",
        "# Call the greet method\n",
        "person1.greet()"
      ],
      "execution_count": 20,
      "outputs": [
        {
          "output_type": "stream",
          "name": "stdout",
          "text": [
            "Hello, my name is Alice and I am 30 years old.\n"
          ]
        }
      ]
    },
    {
      "cell_type": "markdown",
      "source": [
        "12. Implement a class Student with attributes name and grades. Create a method average_grade() to compute\n",
        "the average of the grades."
      ],
      "metadata": {
        "id": "6KwxKT3nFCzn"
      }
    },
    {
      "cell_type": "code",
      "metadata": {
        "colab": {
          "base_uri": "https://localhost:8080/"
        },
        "id": "15dc1b2b",
        "outputId": "9d4be96a-633f-4e93-fddc-c7b1ed9f8d97"
      },
      "source": [
        "class Student:\n",
        "    def __init__(self, name, grades):\n",
        "        self.name = name\n",
        "        self.grades = grades  # grades is expected to be a list of numbers\n",
        "\n",
        "    def average_grade(self):\n",
        "        \"\"\"Computes and returns the average of the student's grades.\"\"\"\n",
        "        if not self.grades:\n",
        "            return 0  # Return 0 if there are no grades\n",
        "        return sum(self.grades) / len(self.grades)\n",
        "\n",
        "# Create a Student object\n",
        "student1 = Student(\"Bob\", [85, 90, 78, 92])\n",
        "\n",
        "# Compute and print the average grade\n",
        "average = student1.average_grade()\n",
        "print(f\"{student1.name}'s average grade is: {average}\")\n",
        "\n",
        "# Example with no grades\n",
        "student2 = Student(\"Alice\", [])\n",
        "average2 = student2.average_grade()\n",
        "print(f\"{student2.name}'s average grade is: {average2}\")"
      ],
      "execution_count": 21,
      "outputs": [
        {
          "output_type": "stream",
          "name": "stdout",
          "text": [
            "Bob's average grade is: 86.25\n",
            "Alice's average grade is: 0\n"
          ]
        }
      ]
    },
    {
      "cell_type": "markdown",
      "source": [
        "13. Create a class Rectangle with methods set_dimensions() to set the dimensions and area() to calculate the\n",
        "area."
      ],
      "metadata": {
        "id": "gP54B7r7FQRk"
      }
    },
    {
      "cell_type": "code",
      "metadata": {
        "colab": {
          "base_uri": "https://localhost:8080/"
        },
        "id": "a295f355",
        "outputId": "e72bb208-9a12-4366-e872-b917e80ec7df"
      },
      "source": [
        "class Rectangle:\n",
        "    def __init__(self):\n",
        "        self.width = 0\n",
        "        self.height = 0\n",
        "\n",
        "    def set_dimensions(self, width, height):\n",
        "        \"\"\"Sets the width and height of the rectangle.\"\"\"\n",
        "        if width >= 0 and height >= 0:\n",
        "            self.width = width\n",
        "            self.height = height\n",
        "        else:\n",
        "            print(\"Dimensions must be non-negative.\")\n",
        "\n",
        "    def area(self):\n",
        "        \"\"\"Calculates and returns the area of the rectangle.\"\"\"\n",
        "        return self.width * self.height\n",
        "\n",
        "# Create a Rectangle object\n",
        "my_rectangle = Rectangle()\n",
        "\n",
        "# Set dimensions and calculate area\n",
        "my_rectangle.set_dimensions(10, 5)\n",
        "print(f\"Area of the rectangle: {my_rectangle.area()}\")\n",
        "\n",
        "# Attempt to set invalid dimensions\n",
        "my_rectangle.set_dimensions(-2, 5)\n",
        "print(f\"Area of the rectangle: {my_rectangle.area()}\") # Area remains the same as invalid dimensions were not set"
      ],
      "execution_count": 22,
      "outputs": [
        {
          "output_type": "stream",
          "name": "stdout",
          "text": [
            "Area of the rectangle: 50\n",
            "Dimensions must be non-negative.\n",
            "Area of the rectangle: 50\n"
          ]
        }
      ]
    },
    {
      "cell_type": "markdown",
      "source": [
        "14. Create a class Employee with a method calculate_salary() that computes the salary based on hours worked\n",
        "and hourly rate. Create a derived class Manager that adds a bonus to the salary."
      ],
      "metadata": {
        "id": "dbA2lHb9FUZY"
      }
    },
    {
      "cell_type": "code",
      "metadata": {
        "colab": {
          "base_uri": "https://localhost:8080/"
        },
        "id": "696359c7",
        "outputId": "1e429189-88aa-4957-a1e7-ef6efe5788b6"
      },
      "source": [
        "class Employee:\n",
        "    def __init__(self, hours_worked, hourly_rate):\n",
        "        self.hours_worked = hours_worked\n",
        "        self.hourly_rate = hourly_rate\n",
        "\n",
        "    def calculate_salary(self):\n",
        "        \"\"\"Computes the salary based on hours worked and hourly rate.\"\"\"\n",
        "        return self.hours_worked * self.hourly_rate\n",
        "\n",
        "class Manager(Employee):\n",
        "    def __init__(self, hours_worked, hourly_rate, bonus):\n",
        "        super().__init__(hours_worked, hourly_rate)\n",
        "        self.bonus = bonus\n",
        "\n",
        "    def calculate_salary(self):\n",
        "        \"\"\"Computes the salary including a bonus.\"\"\"\n",
        "        base_salary = super().calculate_salary()\n",
        "        return base_salary + self.bonus\n",
        "\n",
        "# Create instances and calculate salaries\n",
        "employee = Employee(40, 20)\n",
        "manager = Manager(40, 20, 500)\n",
        "\n",
        "print(f\"Employee salary: ${employee.calculate_salary()}\")\n",
        "print(f\"Manager salary: ${manager.calculate_salary()}\")"
      ],
      "execution_count": 23,
      "outputs": [
        {
          "output_type": "stream",
          "name": "stdout",
          "text": [
            "Employee salary: $800\n",
            "Manager salary: $1300\n"
          ]
        }
      ]
    },
    {
      "cell_type": "markdown",
      "source": [
        "15. Create a class Product with attributes name, price, and quantity. Implement a method total_price() that\n",
        "calculates the total price of the product."
      ],
      "metadata": {
        "id": "iQFqz8UcFb4l"
      }
    },
    {
      "cell_type": "code",
      "metadata": {
        "colab": {
          "base_uri": "https://localhost:8080/"
        },
        "id": "fd9a0f39",
        "outputId": "e8bd5ac7-f05e-4905-9a6e-5c74e946a85a"
      },
      "source": [
        "class Product:\n",
        "    def __init__(self, name, price, quantity):\n",
        "        self.name = name\n",
        "        self.price = price\n",
        "        self.quantity = quantity\n",
        "\n",
        "    def total_price(self):\n",
        "        \"\"\"Calculates and returns the total price of the product.\"\"\"\n",
        "        return self.price * self.quantity\n",
        "\n",
        "# Create a Product object\n",
        "product1 = Product(\"Laptop\", 1200, 2)\n",
        "\n",
        "# Calculate and print the total price\n",
        "total_price = product1.total_price()\n",
        "print(f\"The total price of {product1.name} is: ${total_price}\")"
      ],
      "execution_count": 24,
      "outputs": [
        {
          "output_type": "stream",
          "name": "stdout",
          "text": [
            "The total price of Laptop is: $2400\n"
          ]
        }
      ]
    },
    {
      "cell_type": "markdown",
      "source": [
        "16. Create a class Animal with an abstract method sound(). Create two derived classes Cow and Sheep that\n",
        "implement the sound() method."
      ],
      "metadata": {
        "id": "wwGj4cRqFhVM"
      }
    },
    {
      "cell_type": "code",
      "metadata": {
        "id": "195ecd7c"
      },
      "source": [
        "from abc import ABC, abstractmethod\n",
        "\n",
        "class Animal(ABC):\n",
        "    @abstractmethod\n",
        "    def sound(self):\n",
        "        pass\n",
        "\n",
        "class Cow(Animal):\n",
        "    def sound(self):\n",
        "        return \"Moo\"\n",
        "\n",
        "class Sheep(Animal):\n",
        "    def sound(self):\n",
        "        return \"Baa\""
      ],
      "execution_count": 25,
      "outputs": []
    },
    {
      "cell_type": "code",
      "metadata": {
        "colab": {
          "base_uri": "https://localhost:8080/"
        },
        "id": "b0911cde",
        "outputId": "fbb8176c-6f96-4095-eb19-7318192f51e6"
      },
      "source": [
        "# Create instances and call the sound method\n",
        "cow = Cow()\n",
        "sheep = Sheep()\n",
        "\n",
        "print(f\"Cow says: {cow.sound()}\")\n",
        "print(f\"Sheep says: {sheep.sound()}\")"
      ],
      "execution_count": 26,
      "outputs": [
        {
          "output_type": "stream",
          "name": "stdout",
          "text": [
            "Cow says: Moo\n",
            "Sheep says: Baa\n"
          ]
        }
      ]
    },
    {
      "cell_type": "markdown",
      "source": [
        "17. Create a class Book with attributes title, author, and year_published. Add a method get_book_info() that\n",
        "returns a formatted string with the book's details."
      ],
      "metadata": {
        "id": "4dC3bKGmFmkH"
      }
    },
    {
      "cell_type": "code",
      "metadata": {
        "colab": {
          "base_uri": "https://localhost:8080/"
        },
        "id": "a9a6070c",
        "outputId": "841edac2-529b-4550-ec18-932629cecade"
      },
      "source": [
        "class Book:\n",
        "    def __init__(self, title, author, year_published):\n",
        "        self.title = title\n",
        "        self.author = author\n",
        "        self.year_published = year_published\n",
        "\n",
        "    def get_book_info(self):\n",
        "        \"\"\"Returns a formatted string with the book's details.\"\"\"\n",
        "        return f\"Title: {self.title}, Author: {self.author}, Year Published: {self.year_published}\"\n",
        "\n",
        "# Create a Book object\n",
        "book1 = Book(\"The Hitchhiker's Guide to the Galaxy\", \"Douglas Adams\", 1979)\n",
        "\n",
        "# Get and print the book information\n",
        "book_info = book1.get_book_info()\n",
        "print(book_info)"
      ],
      "execution_count": 27,
      "outputs": [
        {
          "output_type": "stream",
          "name": "stdout",
          "text": [
            "Title: The Hitchhiker's Guide to the Galaxy, Author: Douglas Adams, Year Published: 1979\n"
          ]
        }
      ]
    },
    {
      "cell_type": "markdown",
      "source": [
        "18. Create a class House with attributes address and price. Create a derived class Mansion that adds an\n",
        "attribute number_of_rooms."
      ],
      "metadata": {
        "id": "q1W8xvbhFr8G"
      }
    },
    {
      "cell_type": "code",
      "metadata": {
        "colab": {
          "base_uri": "https://localhost:8080/"
        },
        "id": "9d19869f",
        "outputId": "c8f328dc-ff1c-4355-983a-4b1e378483be"
      },
      "source": [
        "class House:\n",
        "    def __init__(self, address, price):\n",
        "        self.address = address\n",
        "        self.price = price\n",
        "\n",
        "class Mansion(House):\n",
        "    def __init__(self, address, price, number_of_rooms):\n",
        "        super().__init__(address, price)\n",
        "        self.number_of_rooms = number_of_rooms\n",
        "\n",
        "# Create an instance of the Mansion class\n",
        "my_mansion = Mansion(\"123 Luxury Lane\", 5000000, 20)\n",
        "\n",
        "# Access attributes from both the base and derived classes\n",
        "print(f\"Mansion Address: {my_mansion.address}\")\n",
        "print(f\"Mansion Price: ${my_mansion.price}\")\n",
        "print(f\"Number of Rooms: {my_mansion.number_of_rooms}\")"
      ],
      "execution_count": 28,
      "outputs": [
        {
          "output_type": "stream",
          "name": "stdout",
          "text": [
            "Mansion Address: 123 Luxury Lane\n",
            "Mansion Price: $5000000\n",
            "Number of Rooms: 20\n"
          ]
        }
      ]
    }
  ]
}